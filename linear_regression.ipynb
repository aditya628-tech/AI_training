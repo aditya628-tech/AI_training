{
 "cells": [
  {
   "attachments": {},
   "cell_type": "markdown",
   "metadata": {},
   "source": [
    "Python Linear Regression"
   ]
  },
  {
   "attachments": {},
   "cell_type": "markdown",
   "metadata": {},
   "source": [
    "Formula: y = m.x + c --> m = slope of the line, c is the y intercept\n",
    "Error is calculated by mean squared error. \n",
    "\n",
    "Error is the sum of the squared difference of the actual and predicted y values divided by the number of points.\n",
    "\n",
    "The dataset being used is tv marketing csv(downloaded from kaggle)"
   ]
  },
  {
   "cell_type": "code",
   "execution_count": 46,
   "metadata": {},
   "outputs": [],
   "source": [
    "import pandas as pd \n",
    "import matplotlib.pyplot as plt "
   ]
  },
  {
   "cell_type": "code",
   "execution_count": 47,
   "metadata": {},
   "outputs": [
    {
     "data": {
      "image/png": "[encoded data removed]",
      "text/plain": [
       "<Figure size 432x288 with 1 Axes>"
      ]
     },
     "metadata": {
      "needs_background": "light"
     },
     "output_type": "display_data"
    }
   ],
   "source": [
    "data = pd.read_csv('tvmarketing.csv')\n",
    "plt.scatter(data.TV, data.Sales)\n",
    "plt.show()"
   ]
  },
  {
   "cell_type": "code",
   "execution_count": 48,
   "metadata": {},
   "outputs": [],
   "source": [
    "#Loss function calculation\n",
    "\n",
    "def loss_func(m, b, points):\n",
    "    total_error = 0\n",
    "    for i in range(len(points)):\n",
    "        x = points.iloc[i].TV\n",
    "        y = points.iloc[i].Sales\n",
    "        total_error += (y - (m * x + b)) ** 2\n",
    "    \n",
    "    total_error/float(len(points))"
   ]
  },
  {
   "cell_type": "code",
   "execution_count": 49,
   "metadata": {},
   "outputs": [],
   "source": [
    "def gradient_descent(m_now, b_now, points, L):\n",
    "    m_gradient = 0\n",
    "    b_gradient = 0\n",
    "\n",
    "    n = len(points)\n",
    "\n",
    "    for i in range(n):\n",
    "        x = points.iloc[i].TV\n",
    "        y = points.iloc[i].Sales\n",
    "\n",
    "        m_gradient += -(2/n) * x * (y-(m_now * x + b_now))\n",
    "        b_gradient += -(2/n) * (y-(m_now * x + b_now))\n",
    "\n",
    "    m = m_now - m_gradient * L\n",
    "    b = b_now - b_gradient * L\n",
    "\n",
    "    return m, b\n"
   ]
  },
  {
   "cell_type": "code",
   "execution_count": 50,
   "metadata": {},
   "outputs": [
    {
     "name": "stdout",
     "output_type": "stream",
     "text": [
      "Epoch: 0\n",
      "Epoch: 2\n",
      "Epoch: 4\n",
      "Epoch: 6\n",
      "Epoch: 8\n",
      "Epoch: 10\n",
      "Epoch: 12\n",
      "Epoch: 14\n",
      "Epoch: 16\n",
      "Epoch: 18\n",
      "Epoch: 20\n",
      "Epoch: 22\n",
      "Epoch: 24\n",
      "Epoch: 26\n",
      "Epoch: 28\n",
      "Epoch: 30\n",
      "Epoch: 32\n",
      "Epoch: 34\n",
      "Epoch: 36\n",
      "Epoch: 38\n",
      "Epoch: 40\n",
      "Epoch: 42\n",
      "Epoch: 44\n",
      "Epoch: 46\n",
      "Epoch: 48\n",
      "Epoch: 50\n",
      "Epoch: 52\n",
      "Epoch: 54\n",
      "Epoch: 56\n",
      "Epoch: 58\n",
      "Epoch: 60\n",
      "Epoch: 62\n",
      "Epoch: 64\n",
      "Epoch: 66\n",
      "Epoch: 68\n",
      "Epoch: 70\n",
      "Epoch: 72\n",
      "Epoch: 74\n",
      "Epoch: 76\n",
      "Epoch: 78\n",
      "Epoch: 80\n",
      "Epoch: 82\n",
      "Epoch: 84\n",
      "Epoch: 86\n",
      "Epoch: 88\n",
      "Epoch: 90\n",
      "Epoch: 92\n",
      "Epoch: 94\n",
      "Epoch: 96\n",
      "Epoch: 98\n",
      "-9.234568379559849e+66 -4.689546326781001e+64\n"
     ]
    },
    {
     "data": {
      "image/png": "[encoded data removed]",
      "text/plain": [
       "<Figure size 432x288 with 1 Axes>"
      ]
     },
     "metadata": {
      "needs_background": "light"
     },
     "output_type": "display_data"
    }
   ],
   "source": [
    "m = 0\n",
    "b = 0\n",
    "L = 0.0001\n",
    "epochs = 100\n",
    "\n",
    "for i in range(epochs):\n",
    "    if i % 2 == 0 :\n",
    "        print(\"Epoch: \" + str(i))\n",
    "    m, b = gradient_descent(m, b, data, L)\n",
    "\n",
    "print(m, b)\n",
    "\n",
    "plt.scatter(data.TV, data.Sales, color = \"black\")\n",
    "\n",
    "plt.plot(list(range(5, 300)), [m * x + b for x in range(5, 300)], color = \"red\")\n",
    "\n",
    "plt.show()"
   ]
  }
 ],
 "metadata": {
  "kernelspec": {
   "display_name": "Python 3",
   "language": "python",
   "name": "python3"
  },
  "language_info": {
   "codemirror_mode": {
    "name": "ipython",
    "version": 3
   },
   "file_extension": ".py",
   "mimetype": "text/x-python",
   "name": "python",
   "nbconvert_exporter": "python",
   "pygments_lexer": "ipython3",
   "version": "3.10.4"
  },
  "orig_nbformat": 4
 },
 "nbformat": 4,
 "nbformat_minor": 2
}
